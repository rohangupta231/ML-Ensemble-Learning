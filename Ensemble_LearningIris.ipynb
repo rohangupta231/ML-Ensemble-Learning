{
 "cells": [
  {
   "cell_type": "code",
   "execution_count": 150,
   "metadata": {},
   "outputs": [
    {
     "name": "stdout",
     "output_type": "stream",
     "text": [
      "(120, 3)\n"
     ]
    }
   ],
   "source": [
    "from sklearn.neighbors import KNeighborsClassifier\n",
    "#from sklearn.neighbors import \n",
    "from sklearn.datasets import load_iris\n",
    "from sklearn.model_selection import train_test_split\n",
    "from sklearn.metrics import confusion_matrix\n",
    "from sklearn.metrics import accuracy_score\n",
    "import random\n",
    "import numpy as np\n",
    "obj_iris= load_iris()\n",
    "data=obj_iris.data\n",
    "target=obj_iris.target\n",
    "train_data,test_data,train_target,test_target=train_test_split(obj_iris.data,obj_iris.target,test_size=0.2)\n",
    "\"\"\"\"train_data_array=np.array(train_data)\n",
    "test_data_array=np.array(test_data)\n",
    "train_target_array=np.array(train_target)\n",
    "test_target_array=np.array(test_target)\"\"\"\n",
    "knn_train_data=train_data[:,:3]\n",
    "knn_test_data=test_data[:,:3]\n",
    "dtc_train_data=train_data[:,1:]\n",
    "dtc_test_data=test_data[:,1:]\n",
    "rf_train_data=train_data[:,[0,1,3]]\n",
    "rf_test_data=test_data[:,[0,1,3]]\n",
    "gbc_train_data=train_data[:,[0,2,3]]\n",
    "gbc_test_data=test_data[:,[0,2,3]]\n",
    "print(dtc_train_data.shape)\n",
    "#print(knn_train_data.shape)\n",
    "#print(data)\n",
    "#print(target)\n",
    "#print(train_data)\n",
    "#print(train_data)\n",
    "#print(nn_train_data)\n",
    "#print(nn_test_data)"
   ]
  },
  {
   "cell_type": "code",
   "execution_count": 156,
   "metadata": {},
   "outputs": [
    {
     "name": "stdout",
     "output_type": "stream",
     "text": [
      "[2 2 0 0 2 0 2 2 0 1 0 1 2 2 0 0 0 0 1 2 2 1 2 2 1 0 0 0 1 1]\n",
      "Accuracy= 0.9333333333333333\n"
     ]
    }
   ],
   "source": [
    "obj_knn=KNeighborsClassifier()\n",
    "obj_knn.fit(knn_train_data,train_target) \n",
    "knn_prediction=obj_knn.predict(knn_test_data) \n",
    "print(knn_prediction) \n",
    "knn_accuracy=accuracy_score(test_target,knn_prediction)\n",
    "print(\"Accuracy=\",knn_accuracy)"
   ]
  },
  {
   "cell_type": "code",
   "execution_count": 158,
   "metadata": {},
   "outputs": [
    {
     "name": "stdout",
     "output_type": "stream",
     "text": [
      "[2 2 0 0 1 0 2 2 0 1 0 1 2 2 0 0 0 0 1 2 2 1 2 2 2 0 0 0 1 1]\n",
      "Accuracy= 1.0\n"
     ]
    }
   ],
   "source": [
    "\n",
    "from sklearn.tree import DecisionTreeClassifier\n",
    "obj_dtc=DecisionTreeClassifier()\n",
    "obj_dtc.fit(dtc_train_data,train_target)\n",
    "dtc_prediction=obj_dtc.predict(dtc_test_data)\n",
    "print(dtc_prediction)\n",
    "dtc_accuracy=accuracy_score(test_target,dtc_prediction)\n",
    "print(\"Accuracy=\",dtc_accuracy)"
   ]
  },
  {
   "cell_type": "code",
   "execution_count": 112,
   "metadata": {},
   "outputs": [
    {
     "name": "stdout",
     "output_type": "stream",
     "text": [
      "[2 2 2 2 1 1 0 2 1 2 0 1 1 0 1 2 1 0 2 1 2 2 0 0 0 1 0 1 0 2]\n",
      "Accuracy= 1.0\n"
     ]
    }
   ],
   "source": [
    "from sklearn.ensemble import RandomForestClassifier\n",
    "obj_rf=RandomForestClassifier()\n",
    "obj_rf.fit(rf_train_data,train_target)\n",
    "rf_prediction=obj_rf.predict(rf_test_data)\n",
    "print(rf_prediction)\n",
    "rf_accuracy=accuracy_score(test_target,rf_prediction)\n",
    "print(\"Accuracy=\",rf_accuracy)"
   ]
  },
  {
   "cell_type": "code",
   "execution_count": 157,
   "metadata": {},
   "outputs": [
    {
     "name": "stdout",
     "output_type": "stream",
     "text": [
      "[2 2 0 0 1 0 2 2 0 1 0 1 2 2 0 0 0 0 1 2 2 1 2 2 1 0 0 0 1 1]\n",
      "Accuracy= 0.9666666666666667\n"
     ]
    }
   ],
   "source": [
    "from sklearn.ensemble import GradientBoostingClassifier\n",
    "obj_gbc=GradientBoostingClassifier()\n",
    "obj_gbc.fit(gbc_train_data,train_target)\n",
    "gbc_prediction=obj_gbc.predict(gbc_test_data)\n",
    "print(gbc_prediction)\n",
    "gbc_accuracy=accuracy_score(test_target,gbc_prediction)\n",
    "print(\"Accuracy=\",gbc_accuracy)"
   ]
  },
  {
   "cell_type": "code",
   "execution_count": 162,
   "metadata": {},
   "outputs": [
    {
     "name": "stdout",
     "output_type": "stream",
     "text": [
      "Final Accuracy= 0.9666666666666667\n"
     ]
    }
   ],
   "source": [
    "prediction_final=[]\n",
    "for i in range(0,len(test_target)):\n",
    "    l=[]\n",
    "    count_0=count_1=count_2=0\n",
    "    l.append(knn_prediction[i])\n",
    "    l.append(dtc_prediction[i])\n",
    "    l.append(rf_prediction[i])\n",
    "    l.append(gbc_prediction[i])\n",
    "    for j in l:\n",
    "            if(j==0):\n",
    "                count_0=count_0+1\n",
    "            elif(j==1):\n",
    "                count_1=count_1+1\n",
    "            elif(j==2):\n",
    "                count_2=count_2+1\n",
    "    if(count_0>count_1 and count_0>count_2):\n",
    "        prediction_final.append(0)\n",
    "    elif(count_1>count_0 and count_1>count_2):\n",
    "        prediction_final.append(1)\n",
    "    elif(count_2>count_0 and count_2>count_1):\n",
    "        prediction_final.append(2)\n",
    "    elif(count_0==count_1 and (count_0>count_2 or count_1>count_2)):\n",
    "        prediction_final.append(random.choice([0,1]))\n",
    "    elif(count_0==count_2 and (count_0>count_1 or count_2>count_1)):\n",
    "        prediction_final.append(random.choice([0,2]))\n",
    "    elif(count_2==count_1 and (count_1>count_0 or count_2>count_0)):\n",
    "        prediction_final.append(random.choice([2,1])) \n",
    "                                \n",
    "\n",
    "final_accuracy=accuracy_score(test_target,prediction_final)\n",
    "print(\"Final Accuracy=\",final_accuracy)"
   ]
  },
  {
   "cell_type": "code",
   "execution_count": null,
   "metadata": {},
   "outputs": [],
   "source": []
  },
  {
   "cell_type": "code",
   "execution_count": null,
   "metadata": {},
   "outputs": [],
   "source": []
  }
 ],
 "metadata": {
  "kernelspec": {
   "display_name": "Python 3",
   "language": "python",
   "name": "python3"
  },
  "language_info": {
   "codemirror_mode": {
    "name": "ipython",
    "version": 3
   },
   "file_extension": ".py",
   "mimetype": "text/x-python",
   "name": "python",
   "nbconvert_exporter": "python",
   "pygments_lexer": "ipython3",
   "version": "3.6.5"
  }
 },
 "nbformat": 4,
 "nbformat_minor": 2
}
